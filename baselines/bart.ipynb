{
 "cells": [
  {
   "cell_type": "code",
   "execution_count": null,
   "id": "a239749f",
   "metadata": {},
   "outputs": [],
   "source": [
    "!pip install sentence-transformers\n",
    "!pip install nltk\n",
    "\n",
    "import nltk\n",
    "nltk.download('punkt')"
   ]
  },
  {
   "cell_type": "markdown",
   "id": "60b5325a",
   "metadata": {},
   "source": [
    "## Bart QA"
   ]
  },
  {
   "cell_type": "code",
   "execution_count": null,
   "id": "204d5123",
   "metadata": {},
   "outputs": [],
   "source": [
    "import json\n",
    "import os\n",
    "from transformers import BartTokenizer, BartForQuestionAnswering\n",
    "import torch\n",
    "\n",
    "from tqdm.notebook import tqdm, trange\n",
    "\n",
    "import sys\n",
    "sys.path.append(\".\")\n",
    "sys.path.append(\"..\") # Adds higher directory to python modules path.\n",
    "from eval.eval import ClickbaitResolverEvaluator"
   ]
  },
  {
   "cell_type": "code",
   "execution_count": null,
   "id": "cf2a1541",
   "metadata": {},
   "outputs": [],
   "source": [
    "ENTRY_SETS = ['train', 'dev']\n",
    "DATA_PATH = \"../data/\"\n",
    "RESULT_PATH = \"../data/baseline_results/bart_qa/\""
   ]
  },
  {
   "cell_type": "code",
   "execution_count": null,
   "id": "8b6d1e6e",
   "metadata": {},
   "outputs": [],
   "source": [
    "device = \"cuda:0\" if torch.cuda.is_available() else \"cpu\"\n",
    "\n",
    "# Load model and tokenizer\n",
    "tokenizer = BartTokenizer.from_pretrained('a-ware/bart-squadv2')\n",
    "model = BartForQuestionAnswering.from_pretrained('a-ware/bart-squadv2')\n",
    "\n",
    "model     = model.to(device)"
   ]
  },
  {
   "cell_type": "code",
   "execution_count": null,
   "id": "60ef1cd9",
   "metadata": {},
   "outputs": [],
   "source": [
    "def compute_bart_answer(entries, name):\n",
    "    results = []\n",
    "    for entry in tqdm(entries, desc=name):\n",
    "        text = entry[\"text\"]\n",
    "        if text[0] == \".\":\n",
    "            text = text[1:].strip()\n",
    "        if len(text) > 1024:\n",
    "            text = text[:1023]\n",
    "        \n",
    "        question = entry[\"title\"]\n",
    "            \n",
    "        encoding = tokenizer(question, text, return_tensors='pt').to(device)\n",
    "        input_ids = encoding['input_ids']\n",
    "        attention_mask = encoding['attention_mask']\n",
    "\n",
    "        start_scores, end_scores = model(input_ids, attention_mask=attention_mask, output_attentions=False)[:2]\n",
    "\n",
    "        all_tokens = tokenizer.convert_ids_to_tokens(input_ids[0])\n",
    "        answer = ' '.join(all_tokens[torch.argmax(start_scores) : torch.argmax(end_scores)+1])\n",
    "        answer = tokenizer.convert_tokens_to_ids(answer.split())\n",
    "        answer = tokenizer.decode(answer)\n",
    "        \n",
    "        answer = answer.replace(\"<s>\", \" \").replace(\"</s>\", \" \").replace(\".\", \"\").strip()\n",
    "        if answer == \"\":\n",
    "            answer = '-'\n",
    "\n",
    "        print(f\"{question} -> {answer}\")\n",
    "        results.append({\"id\": entry[\"id\"], \"answer\": answer})\n",
    "    return results"
   ]
  },
  {
   "cell_type": "code",
   "execution_count": null,
   "id": "3120f725",
   "metadata": {},
   "outputs": [],
   "source": [
    "os.makedirs(RESULT_PATH, exist_ok=True)\n",
    "\n",
    "for s in ENTRY_SETS:\n",
    "    with open(f\"{DATA_PATH}final_{s}.json\", \"r\") as entry_file:\n",
    "        results = compute_bart_answer(json.load(entry_file), s)\n",
    "        \n",
    "    with open(f\"{RESULT_PATH}{s}.json\", \"w\") as result_file:\n",
    "        json.dump(results, result_file, indent=2, ensure_ascii=False)"
   ]
  },
  {
   "cell_type": "code",
   "execution_count": null,
   "id": "16690675",
   "metadata": {
    "scrolled": true
   },
   "outputs": [],
   "source": [
    "evaluator = ClickbaitResolverEvaluator()\n",
    "\n",
    "for s in ENTRY_SETS:\n",
    "    agg_results, results = evaluator.run_file(f\"{RESULT_PATH}{s}.json\", f\"{DATA_PATH}final_{s}.json\")\n",
    "    evaluator.print_results(agg_results, results, False)"
   ]
  },
  {
   "cell_type": "code",
   "execution_count": null,
   "id": "eaf4e736",
   "metadata": {},
   "outputs": [],
   "source": []
  }
 ],
 "metadata": {
  "kernelspec": {
   "display_name": "Python 3 (ipykernel)",
   "language": "python",
   "name": "python3"
  },
  "language_info": {
   "codemirror_mode": {
    "name": "ipython",
    "version": 3
   },
   "file_extension": ".py",
   "mimetype": "text/x-python",
   "name": "python",
   "nbconvert_exporter": "python",
   "pygments_lexer": "ipython3",
   "version": "3.8.5"
  }
 },
 "nbformat": 4,
 "nbformat_minor": 5
}
