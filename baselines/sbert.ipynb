{
 "cells": [
  {
   "cell_type": "code",
   "execution_count": null,
   "id": "a65fbb3b",
   "metadata": {},
   "outputs": [],
   "source": [
    "!pip install transformers\n",
    "!pip install torch torchvision torchaudio\n",
    "!pip install tqdm\n",
    "!pip install sentence-transformers\n",
    "!pip install nltk\n",
    "\n",
    "import nltk\n",
    "nltk.download('punkt')"
   ]
  },
  {
   "cell_type": "markdown",
   "id": "8602e182",
   "metadata": {},
   "source": [
    "## SBert QA"
   ]
  },
  {
   "cell_type": "code",
   "execution_count": null,
   "id": "64ea2386",
   "metadata": {},
   "outputs": [],
   "source": [
    "import nltk\n",
    "import json\n",
    "import torch\n",
    "import os\n",
    "from sentence_transformers import SentenceTransformer, util\n",
    "\n",
    "import sys\n",
    "sys.path.append(\".\")\n",
    "sys.path.append(\"..\") # Adds higher directory to python modules path.\n",
    "from eval.eval import ClickbaitResolverEvaluator"
   ]
  },
  {
   "cell_type": "code",
   "execution_count": null,
   "id": "6a9ffa47",
   "metadata": {},
   "outputs": [],
   "source": [
    "ENTRY_SETS = ['train', 'dev']\n",
    "DATA_PATH = \"../data/\"\n",
    "RESULT_PATH = \"../data/baseline_results/sbert_qa/\""
   ]
  },
  {
   "cell_type": "code",
   "execution_count": null,
   "id": "57230a3c",
   "metadata": {},
   "outputs": [],
   "source": [
    "embedder = SentenceTransformer('multi-qa-mpnet-base-cos-v1')"
   ]
  },
  {
   "cell_type": "code",
   "execution_count": null,
   "id": "5fbbde0c",
   "metadata": {},
   "outputs": [],
   "source": [
    "def compute_sbert_qa(entries):\n",
    "    results = []\n",
    "    for entry in entries:\n",
    "        text = entry[\"text\"]\n",
    "        if text[0] == \".\":\n",
    "            text = text[1:].strip()\n",
    "        sentences = nltk.tokenize.sent_tokenize(text, language='english')\n",
    "        query_embedding = embedder.encode(entry[\"title\"], convert_to_tensor=True)\n",
    "        corpus_embeddings = embedder.encode(sentences, convert_to_tensor=True)\n",
    "\n",
    "        top_k = 1\n",
    "\n",
    "        # We use cosine-similarity and torch.topk to find the highest score\n",
    "        cos_scores = util.dot_score(query_embedding, corpus_embeddings)[0]\n",
    "        top_results = torch.topk(cos_scores, k=top_k)\n",
    "\n",
    "        answer = sentences[top_results[1][0]].strip()\n",
    "        print(f\"{entry['title']} -> {answer}\")\n",
    "        results.append({\"id\": entry[\"id\"], \"answer\": answer})\n",
    "    return results"
   ]
  },
  {
   "cell_type": "code",
   "execution_count": null,
   "id": "70571449",
   "metadata": {},
   "outputs": [],
   "source": [
    "os.makedirs(RESULT_PATH, exist_ok=True)\n",
    "\n",
    "for s in ENTRY_SETS:\n",
    "    with open(f\"{DATA_PATH}final_{s}.json\", \"r\") as entry_file:\n",
    "        results = compute_sbert_qa(json.load(entry_file))\n",
    "        \n",
    "    with open(f\"{RESULT_PATH}{s}.json\", \"w\") as result_file:\n",
    "        json.dump(results, result_file, indent=2, ensure_ascii=False)"
   ]
  },
  {
   "cell_type": "code",
   "execution_count": null,
   "id": "f46d6a79",
   "metadata": {},
   "outputs": [],
   "source": [
    "evaluator = ClickbaitResolverEvaluator()\n",
    "\n",
    "for s in ENTRY_SETS:\n",
    "    agg_results, results = evaluator.run_file(f\"{RESULT_PATH}{s}.json\", f\"{DATA_PATH}final_{s}.json\")\n",
    "    evaluator.print_results(agg_results, results, False)"
   ]
  },
  {
   "cell_type": "code",
   "execution_count": null,
   "id": "32acd203",
   "metadata": {},
   "outputs": [],
   "source": []
  }
 ],
 "metadata": {
  "kernelspec": {
   "display_name": "Python 3 (ipykernel)",
   "language": "python",
   "name": "python3"
  },
  "language_info": {
   "codemirror_mode": {
    "name": "ipython",
    "version": 3
   },
   "file_extension": ".py",
   "mimetype": "text/x-python",
   "name": "python",
   "nbconvert_exporter": "python",
   "pygments_lexer": "ipython3",
   "version": "3.8.5"
  }
 },
 "nbformat": 4,
 "nbformat_minor": 5
}
