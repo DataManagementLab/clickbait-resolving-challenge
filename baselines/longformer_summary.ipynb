{
 "cells": [
  {
   "cell_type": "code",
   "execution_count": null,
   "id": "a239749f",
   "metadata": {},
   "outputs": [],
   "source": [
    "!pip install transformers\n",
    "!pip install tqdm\n",
    "!pip install nltk"
   ]
  },
  {
   "cell_type": "markdown",
   "id": "60b5325a",
   "metadata": {},
   "source": [
    "## Longformer Text Summarization"
   ]
  },
  {
   "cell_type": "code",
   "execution_count": null,
   "id": "204d5123",
   "metadata": {},
   "outputs": [],
   "source": [
    "import json\n",
    "from transformers import LongformerTokenizer, EncoderDecoderModel\n",
    "\n",
    "from tqdm.notebook import tqdm, trange\n",
    "\n",
    "import sys\n",
    "sys.path.append(\".\")\n",
    "sys.path.append(\"..\") # Adds higher directory to python modules path.\n",
    "from eval.eval import ClickbaitResolverEvaluator"
   ]
  },
  {
   "cell_type": "code",
   "execution_count": null,
   "id": "cf2a1541",
   "metadata": {},
   "outputs": [],
   "source": [
    "ENTRY_SETS = ['train', 'dev']\n",
    "DATA_PATH = \"../data/\"\n",
    "RESULT_PATH = \"../data/baseline_results/longformer_summary/\""
   ]
  },
  {
   "cell_type": "code",
   "execution_count": null,
   "id": "8b6d1e6e",
   "metadata": {},
   "outputs": [],
   "source": [
    "device = \"cuda:0\" if torch.cuda.is_available() else \"cpu\"\n",
    "\n",
    "# Load model and tokenizer\n",
    "model = EncoderDecoderModel.from_pretrained(\"patrickvonplaten/longformer2roberta-cnn_dailymail-fp16\")\n",
    "tokenizer = LongformerTokenizer.from_pretrained(\"allenai/longformer-base-4096\")\n",
    "\n",
    "model     = model.to(device)"
   ]
  },
  {
   "cell_type": "code",
   "execution_count": null,
   "id": "60ef1cd9",
   "metadata": {},
   "outputs": [],
   "source": [
    "def compute_longformer_summary(entries, name):\n",
    "    results = []\n",
    "    for entry in tqdm(entries, desc=name):\n",
    "        text = entry[\"text\"]\n",
    "        if text[0] == \".\":\n",
    "            text = text[1:].strip()\n",
    "        if len(text) > 4096:\n",
    "            text = text[:4095]\n",
    "            \n",
    "        # Tokenize and summarize\n",
    "        inputs = tokenizer(text, return_tensors=\"pt\").to(device)\n",
    "        #input_ids = inputs.input_ids\n",
    "        output_ids = model.generate(inputs.input_ids)\n",
    "\n",
    "        # Get the summary from the output tokens\n",
    "        answer = tokenizer.decode(output_ids[0], skip_special_tokens=True)\n",
    "        answer = answer.replace(\"\\n\", \" \")\n",
    "\n",
    "        question = entry[\"title\"]\n",
    "\n",
    "        if answer == \"\":\n",
    "            answer = '-'\n",
    "\n",
    "        #print(f\"{question} -> {answer}\")\n",
    "        results.append({\"id\": entry[\"id\"], \"answer\": answer})\n",
    "    return results"
   ]
  },
  {
   "cell_type": "code",
   "execution_count": null,
   "id": "3120f725",
   "metadata": {},
   "outputs": [],
   "source": [
    "os.makedirs(RESULT_PATH, exist_ok=True)\n",
    "\n",
    "for s in ENTRY_SETS:\n",
    "    with open(f\"{DATA_PATH}final_{s}.json\", \"r\") as entry_file:\n",
    "        results = compute_longformer_summary(json.load(entry_file), s)\n",
    "        \n",
    "    with open(f\"{RESULT_PATH}{s}.json\", \"w\") as result_file:\n",
    "        json.dump(results, result_file, indent=2, ensure_ascii=False)"
   ]
  },
  {
   "cell_type": "code",
   "execution_count": null,
   "id": "16690675",
   "metadata": {
    "scrolled": true
   },
   "outputs": [],
   "source": [
    "evaluator = ClickbaitResolverEvaluator()\n",
    "\n",
    "for s in ENTRY_SETS:\n",
    "    agg_results, results = evaluator.run_file(f\"{RESULT_PATH}{s}.json\", f\"{DATA_PATH}final_{s}.json\")\n",
    "    evaluator.print_results(agg_results, results, False)"
   ]
  },
  {
   "cell_type": "code",
   "execution_count": null,
   "id": "f3b7a425",
   "metadata": {},
   "outputs": [],
   "source": []
  }
 ],
 "metadata": {
  "kernelspec": {
   "display_name": "Python 3 (ipykernel)",
   "language": "python",
   "name": "python3"
  },
  "language_info": {
   "codemirror_mode": {
    "name": "ipython",
    "version": 3
   },
   "file_extension": ".py",
   "mimetype": "text/x-python",
   "name": "python",
   "nbconvert_exporter": "python",
   "pygments_lexer": "ipython3",
   "version": "3.8.5"
  }
 },
 "nbformat": 4,
 "nbformat_minor": 5
}
