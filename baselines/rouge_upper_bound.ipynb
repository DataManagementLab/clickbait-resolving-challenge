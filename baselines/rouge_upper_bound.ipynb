{
 "cells": [
  {
   "cell_type": "code",
   "execution_count": null,
   "id": "a171e843",
   "metadata": {},
   "outputs": [],
   "source": [
    "!pip install nltk\n",
    "!pip install rouge\n",
    "\n",
    "import nltk\n",
    "nltk.download('punkt')"
   ]
  },
  {
   "cell_type": "code",
   "execution_count": null,
   "id": "19209ff6",
   "metadata": {},
   "outputs": [],
   "source": [
    "import os\n",
    "import json\n",
    "import nltk\n",
    "from rouge import Rouge\n",
    "from tqdm.notebook import tqdm, trange"
   ]
  },
  {
   "cell_type": "code",
   "execution_count": null,
   "id": "4d6a767d",
   "metadata": {},
   "outputs": [],
   "source": [
    "DATA_PATH = \"../data/\"\n",
    "RESULT_PATH = \"../data/baseline_results/rouge_upper_bound/\"\n",
    "FILES = ['train', 'dev']\n",
    "\n",
    "os.makedirs(RESULT_PATH, exist_ok=True)"
   ]
  },
  {
   "cell_type": "code",
   "execution_count": null,
   "id": "bf74c10e",
   "metadata": {},
   "outputs": [],
   "source": [
    "rouge = Rouge()"
   ]
  },
  {
   "cell_type": "code",
   "execution_count": null,
   "id": "4bb9136a",
   "metadata": {},
   "outputs": [],
   "source": [
    "def compute_upper_bound(entries, dataset_name):\n",
    "    \"\"\"\n",
    "    Compute best possible extractive answer using rouge\n",
    "    \"\"\"\n",
    "    # Compute extractive answers\n",
    "    samples = []\n",
    "    for entry in tqdm(entries, desc=f\"Finding best extractive answers for {dataset_name}\"):\n",
    "        text = entry[\"text\"]\n",
    "        if text[0] == \".\":\n",
    "            text = text[1:].strip()\n",
    "        original_answer = entry[\"answer\"]\n",
    "        sentences = nltk.tokenize.sent_tokenize(text, language='english')\n",
    "        \n",
    "        best_answer_2 = \"-\"\n",
    "        rouge_2_f1 = -1\n",
    "        best_answer_l = \"-\"\n",
    "        rouge_l_f1 = -1\n",
    "        if len(sentences) > 0:\n",
    "            for s in sentences:\n",
    "                if s == \"\" or s == \"...\":\n",
    "                    continue\n",
    "                \n",
    "                raw_scores = rouge.get_scores(original_answer, s)\n",
    "                if not len(raw_scores) > 0:\n",
    "                    continue\n",
    "                \n",
    "                scores = raw_scores[0]\n",
    "\n",
    "                if scores['rouge-2']['f'] > rouge_2_f1:\n",
    "                    best_answer_2 = s\n",
    "                    rouge_2_f1 = scores['rouge-2']['f']\n",
    "                if scores['rouge-l']['f'] > rouge_l_f1:\n",
    "                    best_answer_l = s\n",
    "                    rouge_l_f1 = scores['rouge-l']['f']\n",
    "                \n",
    "        print(f\"{original_answer} -> {best_answer_2} (R2: {rouge_2_f1}); {best_answer_l} (R-L: {rouge_l_f1})\")\n",
    "        samples.append({\n",
    "            \"id\": entry[\"id\"],\n",
    "            \"question\": entry[\"title\"],\n",
    "            \"context\":text, \n",
    "            \"answer\": original_answer, \n",
    "            \"extractive_answer_rouge_2\": best_answer_2,\n",
    "            \"extractive_answer_rouge_l\": best_answer_l,\n",
    "            \"extractive_answer_rouge_2_f1\": rouge_2_f1,\n",
    "            \"extractive_answer_rouge_l_f1\": rouge_l_f1,\n",
    "        })\n",
    "    return samples"
   ]
  },
  {
   "cell_type": "code",
   "execution_count": null,
   "id": "f1556f39",
   "metadata": {},
   "outputs": [],
   "source": [
    "for f in FILES:\n",
    "    with open(f\"{DATA_PATH}final_{f}.json\", \"r\") as entry_file:\n",
    "        samples_with_upper_bound = compute_upper_bound(json.load(entry_file), f)\n",
    "\n",
    "    with open(f\"{RESULT_PATH}{f}_upperbound.json\", \"w\") as result_file:\n",
    "        json.dump(samples_with_upper_bound, result_file, indent=2, ensure_ascii=False)\n",
    "        \n",
    "    with open(f\"{RESULT_PATH}{f}.json\", \"w\") as result_file:\n",
    "        json.dump([{\"id\":s[\"id\"], \"answer\":s[\"extractive_answer_rouge_2\"]} for s in samples_with_upper_bound], result_file, indent=2, ensure_ascii=False)"
   ]
  },
  {
   "cell_type": "code",
   "execution_count": null,
   "id": "8206a2b0",
   "metadata": {},
   "outputs": [],
   "source": []
  }
 ],
 "metadata": {
  "kernelspec": {
   "display_name": "Python 3 (ipykernel)",
   "language": "python",
   "name": "python3"
  },
  "language_info": {
   "codemirror_mode": {
    "name": "ipython",
    "version": 3
   },
   "file_extension": ".py",
   "mimetype": "text/x-python",
   "name": "python",
   "nbconvert_exporter": "python",
   "pygments_lexer": "ipython3",
   "version": "3.8.5"
  }
 },
 "nbformat": 4,
 "nbformat_minor": 5
}
