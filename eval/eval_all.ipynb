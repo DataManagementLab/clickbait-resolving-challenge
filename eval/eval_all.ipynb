{
 "cells": [
  {
   "cell_type": "code",
   "execution_count": null,
   "id": "0f0c8a20",
   "metadata": {},
   "outputs": [],
   "source": [
    "from eval import ClickbaitResolverEvaluator\n",
    "import pandas as pd\n",
    "from tqdm.notebook import tqdm"
   ]
  },
  {
   "cell_type": "code",
   "execution_count": null,
   "id": "5f65d0cd",
   "metadata": {},
   "outputs": [],
   "source": [
    "evaluator = ClickbaitResolverEvaluator(use_cuda=True)"
   ]
  },
  {
   "cell_type": "code",
   "execution_count": null,
   "id": "a012b734",
   "metadata": {},
   "outputs": [],
   "source": [
    "DATA_PATH = \"../data/\"\n",
    "RESULT_PATH = \"../data/baseline_results/\"\n",
    "APPROACHES = [\n",
    "    'first_sentence',\n",
    "    'last_sentence',\n",
    "    'longformer_summary',\n",
    "    'sbert_qa',\n",
    "    'bart_qa'    \n",
    "    't5_squad',\n",
    "    't5_finetuned',\n",
    "    't5_finetuned_wordnet_2',\n",
    "]\n",
    "ENTRY_SET = ['dev', 'test']"
   ]
  },
  {
   "cell_type": "code",
   "execution_count": null,
   "id": "e0c637f9",
   "metadata": {},
   "outputs": [],
   "source": [
    "evaluation_results = []\n",
    "\n",
    "for approach in APPROACHES:\n",
    "    for entry in ENTRY_SET:\n",
    "        try:\n",
    "            print(f\"{approach} ({entry})\")\n",
    "            agg_results, results = evaluator.run_file(f\"{RESULT_PATH}{approach}/{entry}.json\", f\"{DATA_PATH}final_{entry}.json\")\n",
    "            evaluator.print_results(agg_results, results, False)\n",
    "            agg_results[\"approach\"] = approach\n",
    "            agg_results[\"set\"] = entry\n",
    "            evaluation_results.append(agg_results)\n",
    "        except FileNotFoundError:\n",
    "            print(\"No predictions found\")"
   ]
  },
  {
   "cell_type": "code",
   "execution_count": null,
   "id": "c4beb1eb",
   "metadata": {},
   "outputs": [],
   "source": [
    "ev_res_df = pd.DataFrame.from_dict(evaluation_results)"
   ]
  },
  {
   "cell_type": "code",
   "execution_count": null,
   "id": "3fddfccb",
   "metadata": {},
   "outputs": [],
   "source": [
    "ev_res_df.to_json(f\"{RESULT_PATH}all.json\", orient=\"records\", indent=4)"
   ]
  },
  {
   "cell_type": "code",
   "execution_count": null,
   "id": "5dec0cac",
   "metadata": {},
   "outputs": [],
   "source": [
    "ev_res_df"
   ]
  },
  {
   "cell_type": "code",
   "execution_count": null,
   "id": "b8a15fc3",
   "metadata": {},
   "outputs": [],
   "source": []
  }
 ],
 "metadata": {
  "kernelspec": {
   "display_name": "Python 3 (ipykernel)",
   "language": "python",
   "name": "python3"
  },
  "language_info": {
   "codemirror_mode": {
    "name": "ipython",
    "version": 3
   },
   "file_extension": ".py",
   "mimetype": "text/x-python",
   "name": "python",
   "nbconvert_exporter": "python",
   "pygments_lexer": "ipython3",
   "version": "3.8.5"
  }
 },
 "nbformat": 4,
 "nbformat_minor": 5
}
