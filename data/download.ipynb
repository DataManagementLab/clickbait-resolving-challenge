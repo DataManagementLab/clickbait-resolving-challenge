{
 "cells": [
  {
   "cell_type": "markdown",
   "id": "c15cfe70",
   "metadata": {},
   "source": [
    "# Clickbait Resolving Challenge - Prepare Data\n",
    "\n",
    "Due to legal reasons, we cannot provide the full texts for download. Hence please either use this notebook to download the full texts on your own or request the files via email."
   ]
  },
  {
   "cell_type": "code",
   "execution_count": null,
   "id": "7fe2b7c0",
   "metadata": {},
   "outputs": [],
   "source": [
    "!pip install newspaper3k"
   ]
  },
  {
   "cell_type": "code",
   "execution_count": null,
   "id": "2fc83c82",
   "metadata": {},
   "outputs": [],
   "source": [
    "import json\n",
    "from newspaper import Article, Config\n",
    "import pandas as pd\n",
    "from multiprocessing.dummy import Pool as ThreadPool"
   ]
  },
  {
   "cell_type": "code",
   "execution_count": null,
   "id": "c7c7ef73",
   "metadata": {},
   "outputs": [],
   "source": [
    "USER_AGENT = 'Mozilla/5.0 (Windows NT 10.0; WOW64) AppleWebKit/537.36 (KHTML, like Gecko) Chrome/91.0.4472.106 Safari/537.36'\n",
    "\n",
    "config = Config()\n",
    "config.browser_user_agent = USER_AGENT\n",
    "config.request_timeout = 10\n",
    "config.memoize_articles = False\n",
    "config.fetch_images = False\n",
    "config.language = 'en'\n",
    "config.thread_timeout_seconds=2"
   ]
  },
  {
   "cell_type": "code",
   "execution_count": null,
   "id": "e025ba12",
   "metadata": {},
   "outputs": [],
   "source": [
    "def getTxt(com):\n",
    "    (id, url) = com\n",
    "    print(f\"{id}: Starting Download - {url}\")\n",
    "    article = Article(url)\n",
    "    \n",
    "    # Try to download and parse the text (up to three times)\n",
    "    for i in range(3):\n",
    "        try:\n",
    "            article.download()\n",
    "            article.parse()\n",
    "            txt=article.text\n",
    "            print(f\"{id}: Downloaded & parsed\")\n",
    "            return id, url,txt\n",
    "        except:\n",
    "            print(f\"{id}: Error while downloading (Attempt {i})\")\n",
    "    return id, url, None"
   ]
  },
  {
   "cell_type": "code",
   "execution_count": null,
   "id": "00ae8c23",
   "metadata": {},
   "outputs": [],
   "source": [
    "SETS = ['train', 'dev']"
   ]
  },
  {
   "cell_type": "code",
   "execution_count": null,
   "id": "02d47074",
   "metadata": {},
   "outputs": [],
   "source": [
    "PARALLEL_THREADS = 5"
   ]
  },
  {
   "cell_type": "code",
   "execution_count": null,
   "id": "726805aa",
   "metadata": {
    "scrolled": true
   },
   "outputs": [],
   "source": [
    "for set_name in SETS:\n",
    "    with open(f\"{set_name}.json\", \"r\") as url_file:\n",
    "        entries_without_text = json.load(url_file)\n",
    "\n",
    "    print(f\"Loaded {len(entries_without_text)} raw {set_name} entries\")\n",
    "\n",
    "    urls = [(e[\"id\"], e[\"url\"]) for e in entries_without_text]\n",
    "    entries_dict = {e[\"id\"]: e for e in entries_without_text}\n",
    "    \n",
    "    pool = ThreadPool(PARALLEL_THREADS)\n",
    "    results = pool.map(getTxt, urls)\n",
    "    pool.close() \n",
    "    pool.join()\n",
    "    \n",
    "    final_entries = []\n",
    "    for r in results:\n",
    "        if r[2] is not None:\n",
    "            e = entries_dict[r[0]]\n",
    "            e['text'] = r[2]\n",
    "            final_entries.append(e)\n",
    "\n",
    "    print(f\"Added fulltext to {len(final_entries)} {set_name} entries\")\n",
    "    \n",
    "    with open(f\"final_{set_name}.json\", \"w\") as outfile:\n",
    "        json.dump(final_entries, outfile, ensure_ascii=False, indent=4)"
   ]
  },
  {
   "cell_type": "markdown",
   "id": "3cb352a9",
   "metadata": {},
   "source": [
    "## Create silver data\n",
    "\n",
    "Gold data needs to be present"
   ]
  },
  {
   "cell_type": "code",
   "execution_count": null,
   "id": "f21e0144",
   "metadata": {},
   "outputs": [],
   "source": [
    "import json"
   ]
  },
  {
   "cell_type": "code",
   "execution_count": null,
   "id": "21e235ce",
   "metadata": {},
   "outputs": [],
   "source": [
    "SILVER_FILE = \"train.2.wordnet.json\""
   ]
  },
  {
   "cell_type": "code",
   "execution_count": null,
   "id": "5402f8da",
   "metadata": {},
   "outputs": [],
   "source": [
    "with open(f\"final_train.json\", \"r\") as goldfile:\n",
    "    gold_entries = json.load(goldfile)\n",
    "gold_entries_dict = {e[\"id\"]: e for e in gold_entries}"
   ]
  },
  {
   "cell_type": "code",
   "execution_count": null,
   "id": "47a12b95",
   "metadata": {},
   "outputs": [],
   "source": [
    "with open(SILVER_FILE, \"r\") as silverfile:\n",
    "    silver_entries = json.load(silverfile)\n",
    "print(f\"Loaded {len(silver_entries)} silver entries\")"
   ]
  },
  {
   "cell_type": "code",
   "execution_count": null,
   "id": "16a031bd",
   "metadata": {},
   "outputs": [],
   "source": [
    "final_silver_entries = []\n",
    "\n",
    "for se in silver_entries:\n",
    "    if se[\"id\"] in gold_entries_dict:\n",
    "        se[\"text\"] = gold_entries_dict[se[\"id\"]][\"text\"]\n",
    "        final_silver_entries.append(se)\n",
    "\n",
    "print(f\"Added fulltexts to {len(final_silver_entries)} silver entries\")"
   ]
  },
  {
   "cell_type": "code",
   "execution_count": null,
   "id": "a4a62ae3",
   "metadata": {},
   "outputs": [],
   "source": [
    "with open(f\"final_{SILVER_FILE}\", \"w\") as outfile:\n",
    "    json.dump(final_silver_entries, outfile, ensure_ascii=False, indent=4)"
   ]
  },
  {
   "cell_type": "code",
   "execution_count": null,
   "id": "7aad5a8e",
   "metadata": {},
   "outputs": [],
   "source": []
  }
 ],
 "metadata": {
  "kernelspec": {
   "display_name": "Python 3 (ipykernel)",
   "language": "python",
   "name": "python3"
  },
  "language_info": {
   "codemirror_mode": {
    "name": "ipython",
    "version": 3
   },
   "file_extension": ".py",
   "mimetype": "text/x-python",
   "name": "python",
   "nbconvert_exporter": "python",
   "pygments_lexer": "ipython3",
   "version": "3.8.5"
  }
 },
 "nbformat": 4,
 "nbformat_minor": 5
}
